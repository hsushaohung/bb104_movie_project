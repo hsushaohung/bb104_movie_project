{
 "cells": [
  {
   "cell_type": "code",
   "execution_count": null,
   "metadata": {
    "collapsed": true
   },
   "outputs": [],
   "source": [
    "import json\n",
    "import pandas as pd\n",
    "import numpy\n",
    "from sklearn.feature_extraction.text import TfidfVectorizer\n",
    "from sklearn.cluster import KMeans\n",
    "from sklearn.metrics import adjusted_rand_score"
   ]
  },
  {
   "cell_type": "code",
   "execution_count": null,
   "metadata": {
    "collapsed": true
   },
   "outputs": [],
   "source": [
    "with open('C:\\\\Users\\\\Java\\\\分群\\\\Kmeans\\\\end_v1.json', 'r', encoding = 'utf-8') as f:\n",
    "    comments = json.load(f)"
   ]
  },
  {
   "cell_type": "code",
   "execution_count": null,
   "metadata": {
    "collapsed": true
   },
   "outputs": [],
   "source": [
    "#做Kmeans"
   ]
  },
  {
   "cell_type": "code",
   "execution_count": null,
   "metadata": {
    "collapsed": true
   },
   "outputs": [],
   "source": [
    "documents_old = []\n",
    "for i in range(len(comments)):\n",
    "    single_movie = \"\"\n",
    "    single_movie += comments[i]['words_jieba_stop']\n",
    "    documents_old.append(single_movie)"
   ]
  },
  {
   "cell_type": "code",
   "execution_count": null,
   "metadata": {
    "collapsed": true
   },
   "outputs": [],
   "source": [
    "vectorizer = TfidfVectorizer(stop_words = None)\n",
    "X = vectorizer.fit_transform(documents_old)XX = X.toarray()"
   ]
  },
  {
   "cell_type": "code",
   "execution_count": null,
   "metadata": {
    "collapsed": true
   },
   "outputs": [],
   "source": [
    "true_k = ########\n",
    "model = KMeans(n_clusters=true_k, init='k-means++', max_iter=300, n_init=15)\n",
    "model.fit(X)"
   ]
  },
  {
   "cell_type": "code",
   "execution_count": null,
   "metadata": {
    "collapsed": true
   },
   "outputs": [],
   "source": [
    "#找出重心位置  # 還要先確定分群名稱 #還要先知道各電影分在哪一群"
   ]
  },
  {
   "cell_type": "code",
   "execution_count": null,
   "metadata": {
    "collapsed": true
   },
   "outputs": [],
   "source": [
    "df = pd.DataFrame(model.cluster_centers_)\n",
    "centers = df.iloc[:,:]"
   ]
  },
  {
   "cell_type": "code",
   "execution_count": null,
   "metadata": {
    "collapsed": true
   },
   "outputs": [],
   "source": [
    "centers_loc = []\n",
    "clusters_names = [#################]  \n",
    "for i in range(len(centers)):    \n",
    "    cluster_loc.append([clusters_names[i], centers.values[i]])\n",
    "centers_loc"
   ]
  },
  {
   "cell_type": "code",
   "execution_count": null,
   "metadata": {
    "collapsed": true
   },
   "outputs": [],
   "source": [
    "#找出各電影位置和分群"
   ]
  },
  {
   "cell_type": "code",
   "execution_count": null,
   "metadata": {
    "collapsed": true
   },
   "outputs": [],
   "source": [
    "XX = X.toarray()\n",
    "df = pd.DataFrame(XX)\n",
    "df['tags'] = (model.labels_)"
   ]
  },
  {
   "cell_type": "code",
   "execution_count": null,
   "metadata": {
    "collapsed": true
   },
   "outputs": [],
   "source": [
    "movie_vector_list = []\n",
    "for i in range(len(comments)):\n",
    "    for j in range(len(df)):\n",
    "        if i == j:\n",
    "            movie_vector_list.append((comments[i]['chname'], df.iloc[:i,-1:].values[0][0], df.values[i]))\n",
    "            break\n",
    "movie_vector_list    \n",
    "\n",
    "#分群編號 df.iloc[:,-1:].values[0][0] "
   ]
  },
  {
   "cell_type": "code",
   "execution_count": null,
   "metadata": {
    "collapsed": true
   },
   "outputs": [],
   "source": [
    "#求出距離"
   ]
  },
  {
   "cell_type": "code",
   "execution_count": null,
   "metadata": {
    "collapsed": true
   },
   "outputs": [],
   "source": [
    "dist_center_movie = [] \n",
    "\n",
    "for i in range(len(centers_loc)):\n",
    "    distance_list = []\n",
    "    for j in range(len(movie_vector_list)):               \n",
    "        distance = numpy.sqrt(numpy.sum((centers_loc[i][1] - movie_vector_list[j][2])**2))\n",
    "        distance_list.append([centers_loc[i][0], movie_vector_list[j][0], distance])\n",
    "    dist_center_movie.append(distance_list)"
   ]
  },
  {
   "cell_type": "code",
   "execution_count": null,
   "metadata": {
    "collapsed": true
   },
   "outputs": [],
   "source": [
    "#按照距離由近到遠排序 (由小到大)"
   ]
  },
  {
   "cell_type": "code",
   "execution_count": null,
   "metadata": {
    "collapsed": true
   },
   "outputs": [],
   "source": [
    "sorted_distances = []\n",
    "\n",
    "for i in range(len(dist_center_movie)):\n",
    "    wan = inter_distances[i]\n",
    "    wan = sorted(wan, key = lambda wan:wan[2])\n",
    "    sorted_distances.append(wan)"
   ]
  },
  {
   "cell_type": "code",
   "execution_count": null,
   "metadata": {
    "collapsed": true
   },
   "outputs": [],
   "source": [
    "sorted_distances[0]"
   ]
  },
  {
   "cell_type": "code",
   "execution_count": null,
   "metadata": {
    "collapsed": true
   },
   "outputs": [],
   "source": [
    "recommend_dict_list = []\n",
    "recommend_dict = {}\n",
    "for i in range(len(sorted_distances)):\n",
    "    recommend_dict['cluster'] = sorted_distances[i][0][0]\n",
    "    closest_movies = []\n",
    "    for j in range(len(sorted_distances[i])):\n",
    "        closest_movies.append(sorted_distances[i][j][1])\n",
    "    recommend_dict['closest_movies'] = closest_movies\n",
    "    recommend_dict_list.append({\n",
    "                                        'cluster': recommend_dict['cluster'],\n",
    "                                'closest_movies' : recommend_dict['closest_movies']\n",
    "    })"
   ]
  },
  {
   "cell_type": "code",
   "execution_count": null,
   "metadata": {
    "collapsed": true
   },
   "outputs": [],
   "source": [
    "with open('C:\\\\Users\\\\Java\\\\分群\\\\Kmeans\\\\center_movie_recommendation.json', 'w', encoding = 'utf-8') as f:\n",
    "    f.write(json.dumps(recommend_dict_list, ensure_ascii = False))"
   ]
  }
 ],
 "metadata": {
  "kernelspec": {
   "display_name": "Python 3",
   "language": "python",
   "name": "python3"
  },
  "language_info": {
   "codemirror_mode": {
    "name": "ipython",
    "version": 3
   },
   "file_extension": ".py",
   "mimetype": "text/x-python",
   "name": "python",
   "nbconvert_exporter": "python",
   "pygments_lexer": "ipython3",
   "version": "3.6.1"
  }
 },
 "nbformat": 4,
 "nbformat_minor": 2
}
