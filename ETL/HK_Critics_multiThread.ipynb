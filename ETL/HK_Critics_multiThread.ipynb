{
 "cells": [
  {
   "cell_type": "code",
   "execution_count": 1,
   "metadata": {
    "collapsed": true
   },
   "outputs": [],
   "source": [
    "import random\n",
    "import requests\n",
    "from bs4 import BeautifulSoup\n",
    "import re\n",
    "import time\n",
    "import json\n",
    "import concurrent.futures\n",
    "from concurrent.futures import ThreadPoolExecutor, wait"
   ]
  },
  {
   "cell_type": "code",
   "execution_count": 2,
   "metadata": {
    "collapsed": true
   },
   "outputs": [],
   "source": [
    "def ipGet():\n",
    "    req = requests.get(\"https://free-proxy-list.net/\")\n",
    "    resList = BeautifulSoup(req.text, \"lxml\").select_one(\".table-striped\").select(\"tbody tr\")\n",
    "    ipList = [resList[i].select(\"td\")[0].text + \":\" + resList[i].select(\"td\")[1].text\n",
    "              for i in range(len(resList))]\n",
    "    return {\"http\": \"http://\" + random.choice(ipList),\"https\": \"https://\" + random.choice(ipList)}"
   ]
  },
  {
   "cell_type": "code",
   "execution_count": 3,
   "metadata": {
    "collapsed": true
   },
   "outputs": [],
   "source": [
    "#multithread\n",
    "def worker(url):   \n",
    "    \n",
    "    #, proxies=proxies\n",
    "    resp = requests.get(url, headers = headers)\n",
    "    soup = BeautifulSoup(resp.text, 'lxml')\n",
    "\n",
    "    title = soup.select('div.breadcrumb > a.active')[0].text\n",
    "    a = soup.select('div.content.clear-block > p > span')\n",
    "    print(url)\n",
    "    \n",
    "    if '《' in title:     \n",
    "        movie_dict['criticTitle']  = soup.select('div.breadcrumb > a.active')[0].text\n",
    "        movie_dict['movieTitle']  = soup.select('div.breadcrumb > a.active')[0].text.split('》')[0].split('《')[1]   \n",
    "        movie_dict['author']      = soup.select('span.submitted > a')[0].text\n",
    "        movie_dict['critic']      = \"\".join([span.text for span in a])\n",
    "\n",
    "        movie_dict_list.append({ \n",
    "                                    'criticTitle': movie_dict['criticTitle'],\n",
    "                                    'movieTitle' : movie_dict['movieTitle'],\n",
    "                                    'post'       : movie_dict['critic'],\n",
    "                                    'author'     : movie_dict['author']  \n",
    "         })\n",
    "    \n"
   ]
  },
  {
   "cell_type": "code",
   "execution_count": 4,
   "metadata": {
    "collapsed": true
   },
   "outputs": [],
   "source": [
    "def page_crawler(url):\n",
    "    \n",
    "    resp = requests.get(url, headers = headers)\n",
    "    soup = BeautifulSoup(resp.text, 'lxml')\n",
    "    for i in range(1,11):\n",
    "        link = soup.select('div.views-row-%s > div.node > h2 > a'%i) [0]['href']\n",
    "        article_url = DOMAIN + link\n",
    "        article_urls.append(article_url)\n",
    "        \n",
    "    \n",
    "#     for art in article_urls:\n",
    "#         worker(art)\n",
    "#     for i in range(10):\n",
    "#         worker(article_urls[:10])"
   ]
  },
  {
   "cell_type": "code",
   "execution_count": 31,
   "metadata": {
    "collapsed": true
   },
   "outputs": [],
   "source": [
    "with open(\"article_urls.json\",'w') as loads_f:\n",
    "    loads_f.write(json.dumps('article_urls', ensure_ascii = False))\n",
    "#     article_urls = json.load(loads_f)"
   ]
  },
  {
   "cell_type": "code",
   "execution_count": 4,
   "metadata": {
    "collapsed": true
   },
   "outputs": [],
   "source": [
    "with open(\"article_urls.json\",'r') as loads_f:\n",
    "    article_urls = json.load(loads_f)"
   ]
  },
  {
   "cell_type": "code",
   "execution_count": 5,
   "metadata": {},
   "outputs": [
    {
     "data": {
      "text/plain": [
       "1240"
      ]
     },
     "execution_count": 5,
     "metadata": {},
     "output_type": "execute_result"
    }
   ],
   "source": [
    "len(article_urls)"
   ]
  },
  {
   "cell_type": "code",
   "execution_count": 7,
   "metadata": {},
   "outputs": [
    {
     "ename": "KeyboardInterrupt",
     "evalue": "",
     "output_type": "error",
     "traceback": [
      "\u001b[1;31m---------------------------------------------------------------------------\u001b[0m",
      "\u001b[1;31mTypeError\u001b[0m                                 Traceback (most recent call last)",
      "\u001b[1;32mC:\\Users\\Java\\Anaconda3\\lib\\site-packages\\requests\\packages\\urllib3\\connectionpool.py\u001b[0m in \u001b[0;36m_make_request\u001b[1;34m(self, conn, method, url, timeout, chunked, **httplib_request_kw)\u001b[0m\n\u001b[0;32m    378\u001b[0m             \u001b[1;32mtry\u001b[0m\u001b[1;33m:\u001b[0m  \u001b[1;31m# Python 2.7, use buffering of HTTP responses\u001b[0m\u001b[1;33m\u001b[0m\u001b[0m\n\u001b[1;32m--> 379\u001b[1;33m                 \u001b[0mhttplib_response\u001b[0m \u001b[1;33m=\u001b[0m \u001b[0mconn\u001b[0m\u001b[1;33m.\u001b[0m\u001b[0mgetresponse\u001b[0m\u001b[1;33m(\u001b[0m\u001b[0mbuffering\u001b[0m\u001b[1;33m=\u001b[0m\u001b[1;32mTrue\u001b[0m\u001b[1;33m)\u001b[0m\u001b[1;33m\u001b[0m\u001b[0m\n\u001b[0m\u001b[0;32m    380\u001b[0m             \u001b[1;32mexcept\u001b[0m \u001b[0mTypeError\u001b[0m\u001b[1;33m:\u001b[0m  \u001b[1;31m# Python 2.6 and older, Python 3\u001b[0m\u001b[1;33m\u001b[0m\u001b[0m\n",
      "\u001b[1;31mTypeError\u001b[0m: getresponse() got an unexpected keyword argument 'buffering'",
      "\nDuring handling of the above exception, another exception occurred:\n",
      "\u001b[1;31mKeyboardInterrupt\u001b[0m                         Traceback (most recent call last)",
      "\u001b[1;32m<ipython-input-7-19045671f102>\u001b[0m in \u001b[0;36m<module>\u001b[1;34m()\u001b[0m\n\u001b[0;32m     17\u001b[0m     \u001b[0mlastpg\u001b[0m \u001b[1;33m=\u001b[0m \u001b[0mint\u001b[0m\u001b[1;33m(\u001b[0m\u001b[0mre\u001b[0m\u001b[1;33m.\u001b[0m\u001b[0mfindall\u001b[0m\u001b[1;33m(\u001b[0m\u001b[1;34m'href=\"(.+)\" title=\"到最後一頁\"'\u001b[0m\u001b[1;33m,\u001b[0m \u001b[0mresp\u001b[0m\u001b[1;33m.\u001b[0m\u001b[0mtext\u001b[0m\u001b[1;33m)\u001b[0m\u001b[1;33m[\u001b[0m\u001b[1;36m0\u001b[0m\u001b[1;33m]\u001b[0m\u001b[1;33m.\u001b[0m\u001b[0msplit\u001b[0m\u001b[1;33m(\u001b[0m\u001b[1;34m'page='\u001b[0m\u001b[1;33m)\u001b[0m\u001b[1;33m[\u001b[0m\u001b[1;36m1\u001b[0m\u001b[1;33m]\u001b[0m\u001b[1;33m)\u001b[0m  \u001b[1;31m#給出最後一頁的頁數,找出總共有幾頁\u001b[0m\u001b[1;33m\u001b[0m\u001b[0m\n\u001b[0;32m     18\u001b[0m \u001b[1;33m\u001b[0m\u001b[0m\n\u001b[1;32m---> 19\u001b[1;33m     \u001b[0mpage_crawler\u001b[0m\u001b[1;33m(\u001b[0m\u001b[0mlastpg\u001b[0m\u001b[1;33m)\u001b[0m\u001b[1;33m\u001b[0m\u001b[0m\n\u001b[0m\u001b[0;32m     20\u001b[0m \u001b[1;33m\u001b[0m\u001b[0m\n\u001b[0;32m     21\u001b[0m     \u001b[1;32mwith\u001b[0m \u001b[0mconcurrent\u001b[0m\u001b[1;33m.\u001b[0m\u001b[0mfutures\u001b[0m\u001b[1;33m.\u001b[0m\u001b[0mThreadPoolExecutor\u001b[0m\u001b[1;33m(\u001b[0m\u001b[1;36m80\u001b[0m\u001b[1;33m)\u001b[0m \u001b[1;32mas\u001b[0m \u001b[0mexecutor\u001b[0m\u001b[1;33m:\u001b[0m\u001b[1;33m\u001b[0m\u001b[0m\n",
      "\u001b[1;32m<ipython-input-4-d0778747839d>\u001b[0m in \u001b[0;36mpage_crawler\u001b[1;34m(lastpg)\u001b[0m\n\u001b[0;32m      6\u001b[0m \u001b[1;33m\u001b[0m\u001b[0m\n\u001b[0;32m      7\u001b[0m     \u001b[1;32mfor\u001b[0m \u001b[0mpage\u001b[0m \u001b[1;32min\u001b[0m \u001b[0mpageurl_list\u001b[0m\u001b[1;33m:\u001b[0m\u001b[1;33m\u001b[0m\u001b[0m\n\u001b[1;32m----> 8\u001b[1;33m         \u001b[0mresp\u001b[0m \u001b[1;33m=\u001b[0m \u001b[0mrequests\u001b[0m\u001b[1;33m.\u001b[0m\u001b[0mget\u001b[0m\u001b[1;33m(\u001b[0m\u001b[0mpage\u001b[0m\u001b[1;33m,\u001b[0m \u001b[0mheaders\u001b[0m \u001b[1;33m=\u001b[0m \u001b[0mheaders\u001b[0m\u001b[1;33m)\u001b[0m\u001b[1;33m\u001b[0m\u001b[0m\n\u001b[0m\u001b[0;32m      9\u001b[0m         \u001b[0msoup\u001b[0m \u001b[1;33m=\u001b[0m \u001b[0mBeautifulSoup\u001b[0m\u001b[1;33m(\u001b[0m\u001b[0mresp\u001b[0m\u001b[1;33m.\u001b[0m\u001b[0mtext\u001b[0m\u001b[1;33m,\u001b[0m \u001b[1;34m'lxml'\u001b[0m\u001b[1;33m)\u001b[0m\u001b[1;33m\u001b[0m\u001b[0m\n\u001b[0;32m     10\u001b[0m         \u001b[1;32mfor\u001b[0m \u001b[0mi\u001b[0m \u001b[1;32min\u001b[0m \u001b[0mrange\u001b[0m\u001b[1;33m(\u001b[0m\u001b[1;36m1\u001b[0m\u001b[1;33m,\u001b[0m\u001b[1;36m11\u001b[0m\u001b[1;33m)\u001b[0m\u001b[1;33m:\u001b[0m\u001b[1;33m\u001b[0m\u001b[0m\n",
      "\u001b[1;32mC:\\Users\\Java\\Anaconda3\\lib\\site-packages\\requests\\api.py\u001b[0m in \u001b[0;36mget\u001b[1;34m(url, params, **kwargs)\u001b[0m\n\u001b[0;32m     70\u001b[0m \u001b[1;33m\u001b[0m\u001b[0m\n\u001b[0;32m     71\u001b[0m     \u001b[0mkwargs\u001b[0m\u001b[1;33m.\u001b[0m\u001b[0msetdefault\u001b[0m\u001b[1;33m(\u001b[0m\u001b[1;34m'allow_redirects'\u001b[0m\u001b[1;33m,\u001b[0m \u001b[1;32mTrue\u001b[0m\u001b[1;33m)\u001b[0m\u001b[1;33m\u001b[0m\u001b[0m\n\u001b[1;32m---> 72\u001b[1;33m     \u001b[1;32mreturn\u001b[0m \u001b[0mrequest\u001b[0m\u001b[1;33m(\u001b[0m\u001b[1;34m'get'\u001b[0m\u001b[1;33m,\u001b[0m \u001b[0murl\u001b[0m\u001b[1;33m,\u001b[0m \u001b[0mparams\u001b[0m\u001b[1;33m=\u001b[0m\u001b[0mparams\u001b[0m\u001b[1;33m,\u001b[0m \u001b[1;33m**\u001b[0m\u001b[0mkwargs\u001b[0m\u001b[1;33m)\u001b[0m\u001b[1;33m\u001b[0m\u001b[0m\n\u001b[0m\u001b[0;32m     73\u001b[0m \u001b[1;33m\u001b[0m\u001b[0m\n\u001b[0;32m     74\u001b[0m \u001b[1;33m\u001b[0m\u001b[0m\n",
      "\u001b[1;32mC:\\Users\\Java\\Anaconda3\\lib\\site-packages\\requests\\api.py\u001b[0m in \u001b[0;36mrequest\u001b[1;34m(method, url, **kwargs)\u001b[0m\n\u001b[0;32m     56\u001b[0m     \u001b[1;31m# cases, and look like a memory leak in others.\u001b[0m\u001b[1;33m\u001b[0m\u001b[1;33m\u001b[0m\u001b[0m\n\u001b[0;32m     57\u001b[0m     \u001b[1;32mwith\u001b[0m \u001b[0msessions\u001b[0m\u001b[1;33m.\u001b[0m\u001b[0mSession\u001b[0m\u001b[1;33m(\u001b[0m\u001b[1;33m)\u001b[0m \u001b[1;32mas\u001b[0m \u001b[0msession\u001b[0m\u001b[1;33m:\u001b[0m\u001b[1;33m\u001b[0m\u001b[0m\n\u001b[1;32m---> 58\u001b[1;33m         \u001b[1;32mreturn\u001b[0m \u001b[0msession\u001b[0m\u001b[1;33m.\u001b[0m\u001b[0mrequest\u001b[0m\u001b[1;33m(\u001b[0m\u001b[0mmethod\u001b[0m\u001b[1;33m=\u001b[0m\u001b[0mmethod\u001b[0m\u001b[1;33m,\u001b[0m \u001b[0murl\u001b[0m\u001b[1;33m=\u001b[0m\u001b[0murl\u001b[0m\u001b[1;33m,\u001b[0m \u001b[1;33m**\u001b[0m\u001b[0mkwargs\u001b[0m\u001b[1;33m)\u001b[0m\u001b[1;33m\u001b[0m\u001b[0m\n\u001b[0m\u001b[0;32m     59\u001b[0m \u001b[1;33m\u001b[0m\u001b[0m\n\u001b[0;32m     60\u001b[0m \u001b[1;33m\u001b[0m\u001b[0m\n",
      "\u001b[1;32mC:\\Users\\Java\\Anaconda3\\lib\\site-packages\\requests\\sessions.py\u001b[0m in \u001b[0;36mrequest\u001b[1;34m(self, method, url, params, data, headers, cookies, files, auth, timeout, allow_redirects, proxies, hooks, stream, verify, cert, json)\u001b[0m\n\u001b[0;32m    516\u001b[0m         }\n\u001b[0;32m    517\u001b[0m         \u001b[0msend_kwargs\u001b[0m\u001b[1;33m.\u001b[0m\u001b[0mupdate\u001b[0m\u001b[1;33m(\u001b[0m\u001b[0msettings\u001b[0m\u001b[1;33m)\u001b[0m\u001b[1;33m\u001b[0m\u001b[0m\n\u001b[1;32m--> 518\u001b[1;33m         \u001b[0mresp\u001b[0m \u001b[1;33m=\u001b[0m \u001b[0mself\u001b[0m\u001b[1;33m.\u001b[0m\u001b[0msend\u001b[0m\u001b[1;33m(\u001b[0m\u001b[0mprep\u001b[0m\u001b[1;33m,\u001b[0m \u001b[1;33m**\u001b[0m\u001b[0msend_kwargs\u001b[0m\u001b[1;33m)\u001b[0m\u001b[1;33m\u001b[0m\u001b[0m\n\u001b[0m\u001b[0;32m    519\u001b[0m \u001b[1;33m\u001b[0m\u001b[0m\n\u001b[0;32m    520\u001b[0m         \u001b[1;32mreturn\u001b[0m \u001b[0mresp\u001b[0m\u001b[1;33m\u001b[0m\u001b[0m\n",
      "\u001b[1;32mC:\\Users\\Java\\Anaconda3\\lib\\site-packages\\requests\\sessions.py\u001b[0m in \u001b[0;36msend\u001b[1;34m(self, request, **kwargs)\u001b[0m\n\u001b[0;32m    637\u001b[0m \u001b[1;33m\u001b[0m\u001b[0m\n\u001b[0;32m    638\u001b[0m         \u001b[1;31m# Send the request\u001b[0m\u001b[1;33m\u001b[0m\u001b[1;33m\u001b[0m\u001b[0m\n\u001b[1;32m--> 639\u001b[1;33m         \u001b[0mr\u001b[0m \u001b[1;33m=\u001b[0m \u001b[0madapter\u001b[0m\u001b[1;33m.\u001b[0m\u001b[0msend\u001b[0m\u001b[1;33m(\u001b[0m\u001b[0mrequest\u001b[0m\u001b[1;33m,\u001b[0m \u001b[1;33m**\u001b[0m\u001b[0mkwargs\u001b[0m\u001b[1;33m)\u001b[0m\u001b[1;33m\u001b[0m\u001b[0m\n\u001b[0m\u001b[0;32m    640\u001b[0m \u001b[1;33m\u001b[0m\u001b[0m\n\u001b[0;32m    641\u001b[0m         \u001b[1;31m# Total elapsed time of the request (approximately)\u001b[0m\u001b[1;33m\u001b[0m\u001b[1;33m\u001b[0m\u001b[0m\n",
      "\u001b[1;32mC:\\Users\\Java\\Anaconda3\\lib\\site-packages\\requests\\adapters.py\u001b[0m in \u001b[0;36msend\u001b[1;34m(self, request, stream, timeout, verify, cert, proxies)\u001b[0m\n\u001b[0;32m    436\u001b[0m                     \u001b[0mdecode_content\u001b[0m\u001b[1;33m=\u001b[0m\u001b[1;32mFalse\u001b[0m\u001b[1;33m,\u001b[0m\u001b[1;33m\u001b[0m\u001b[0m\n\u001b[0;32m    437\u001b[0m                     \u001b[0mretries\u001b[0m\u001b[1;33m=\u001b[0m\u001b[0mself\u001b[0m\u001b[1;33m.\u001b[0m\u001b[0mmax_retries\u001b[0m\u001b[1;33m,\u001b[0m\u001b[1;33m\u001b[0m\u001b[0m\n\u001b[1;32m--> 438\u001b[1;33m                     \u001b[0mtimeout\u001b[0m\u001b[1;33m=\u001b[0m\u001b[0mtimeout\u001b[0m\u001b[1;33m\u001b[0m\u001b[0m\n\u001b[0m\u001b[0;32m    439\u001b[0m                 )\n\u001b[0;32m    440\u001b[0m \u001b[1;33m\u001b[0m\u001b[0m\n",
      "\u001b[1;32mC:\\Users\\Java\\Anaconda3\\lib\\site-packages\\requests\\packages\\urllib3\\connectionpool.py\u001b[0m in \u001b[0;36murlopen\u001b[1;34m(self, method, url, body, headers, retries, redirect, assert_same_host, timeout, pool_timeout, release_conn, chunked, body_pos, **response_kw)\u001b[0m\n\u001b[0;32m    598\u001b[0m                                                   \u001b[0mtimeout\u001b[0m\u001b[1;33m=\u001b[0m\u001b[0mtimeout_obj\u001b[0m\u001b[1;33m,\u001b[0m\u001b[1;33m\u001b[0m\u001b[0m\n\u001b[0;32m    599\u001b[0m                                                   \u001b[0mbody\u001b[0m\u001b[1;33m=\u001b[0m\u001b[0mbody\u001b[0m\u001b[1;33m,\u001b[0m \u001b[0mheaders\u001b[0m\u001b[1;33m=\u001b[0m\u001b[0mheaders\u001b[0m\u001b[1;33m,\u001b[0m\u001b[1;33m\u001b[0m\u001b[0m\n\u001b[1;32m--> 600\u001b[1;33m                                                   chunked=chunked)\n\u001b[0m\u001b[0;32m    601\u001b[0m \u001b[1;33m\u001b[0m\u001b[0m\n\u001b[0;32m    602\u001b[0m             \u001b[1;31m# If we're going to release the connection in ``finally:``, then\u001b[0m\u001b[1;33m\u001b[0m\u001b[1;33m\u001b[0m\u001b[0m\n",
      "\u001b[1;32mC:\\Users\\Java\\Anaconda3\\lib\\site-packages\\requests\\packages\\urllib3\\connectionpool.py\u001b[0m in \u001b[0;36m_make_request\u001b[1;34m(self, conn, method, url, timeout, chunked, **httplib_request_kw)\u001b[0m\n\u001b[0;32m    380\u001b[0m             \u001b[1;32mexcept\u001b[0m \u001b[0mTypeError\u001b[0m\u001b[1;33m:\u001b[0m  \u001b[1;31m# Python 2.6 and older, Python 3\u001b[0m\u001b[1;33m\u001b[0m\u001b[0m\n\u001b[0;32m    381\u001b[0m                 \u001b[1;32mtry\u001b[0m\u001b[1;33m:\u001b[0m\u001b[1;33m\u001b[0m\u001b[0m\n\u001b[1;32m--> 382\u001b[1;33m                     \u001b[0mhttplib_response\u001b[0m \u001b[1;33m=\u001b[0m \u001b[0mconn\u001b[0m\u001b[1;33m.\u001b[0m\u001b[0mgetresponse\u001b[0m\u001b[1;33m(\u001b[0m\u001b[1;33m)\u001b[0m\u001b[1;33m\u001b[0m\u001b[0m\n\u001b[0m\u001b[0;32m    383\u001b[0m                 \u001b[1;32mexcept\u001b[0m \u001b[0mException\u001b[0m \u001b[1;32mas\u001b[0m \u001b[0me\u001b[0m\u001b[1;33m:\u001b[0m\u001b[1;33m\u001b[0m\u001b[0m\n\u001b[0;32m    384\u001b[0m                     \u001b[1;31m# Remove the TypeError from the exception chain in Python 3;\u001b[0m\u001b[1;33m\u001b[0m\u001b[1;33m\u001b[0m\u001b[0m\n",
      "\u001b[1;32mC:\\Users\\Java\\Anaconda3\\lib\\http\\client.py\u001b[0m in \u001b[0;36mgetresponse\u001b[1;34m(self)\u001b[0m\n\u001b[0;32m   1329\u001b[0m         \u001b[1;32mtry\u001b[0m\u001b[1;33m:\u001b[0m\u001b[1;33m\u001b[0m\u001b[0m\n\u001b[0;32m   1330\u001b[0m             \u001b[1;32mtry\u001b[0m\u001b[1;33m:\u001b[0m\u001b[1;33m\u001b[0m\u001b[0m\n\u001b[1;32m-> 1331\u001b[1;33m                 \u001b[0mresponse\u001b[0m\u001b[1;33m.\u001b[0m\u001b[0mbegin\u001b[0m\u001b[1;33m(\u001b[0m\u001b[1;33m)\u001b[0m\u001b[1;33m\u001b[0m\u001b[0m\n\u001b[0m\u001b[0;32m   1332\u001b[0m             \u001b[1;32mexcept\u001b[0m \u001b[0mConnectionError\u001b[0m\u001b[1;33m:\u001b[0m\u001b[1;33m\u001b[0m\u001b[0m\n\u001b[0;32m   1333\u001b[0m                 \u001b[0mself\u001b[0m\u001b[1;33m.\u001b[0m\u001b[0mclose\u001b[0m\u001b[1;33m(\u001b[0m\u001b[1;33m)\u001b[0m\u001b[1;33m\u001b[0m\u001b[0m\n",
      "\u001b[1;32mC:\\Users\\Java\\Anaconda3\\lib\\http\\client.py\u001b[0m in \u001b[0;36mbegin\u001b[1;34m(self)\u001b[0m\n\u001b[0;32m    295\u001b[0m         \u001b[1;31m# read until we get a non-100 response\u001b[0m\u001b[1;33m\u001b[0m\u001b[1;33m\u001b[0m\u001b[0m\n\u001b[0;32m    296\u001b[0m         \u001b[1;32mwhile\u001b[0m \u001b[1;32mTrue\u001b[0m\u001b[1;33m:\u001b[0m\u001b[1;33m\u001b[0m\u001b[0m\n\u001b[1;32m--> 297\u001b[1;33m             \u001b[0mversion\u001b[0m\u001b[1;33m,\u001b[0m \u001b[0mstatus\u001b[0m\u001b[1;33m,\u001b[0m \u001b[0mreason\u001b[0m \u001b[1;33m=\u001b[0m \u001b[0mself\u001b[0m\u001b[1;33m.\u001b[0m\u001b[0m_read_status\u001b[0m\u001b[1;33m(\u001b[0m\u001b[1;33m)\u001b[0m\u001b[1;33m\u001b[0m\u001b[0m\n\u001b[0m\u001b[0;32m    298\u001b[0m             \u001b[1;32mif\u001b[0m \u001b[0mstatus\u001b[0m \u001b[1;33m!=\u001b[0m \u001b[0mCONTINUE\u001b[0m\u001b[1;33m:\u001b[0m\u001b[1;33m\u001b[0m\u001b[0m\n\u001b[0;32m    299\u001b[0m                 \u001b[1;32mbreak\u001b[0m\u001b[1;33m\u001b[0m\u001b[0m\n",
      "\u001b[1;32mC:\\Users\\Java\\Anaconda3\\lib\\http\\client.py\u001b[0m in \u001b[0;36m_read_status\u001b[1;34m(self)\u001b[0m\n\u001b[0;32m    256\u001b[0m \u001b[1;33m\u001b[0m\u001b[0m\n\u001b[0;32m    257\u001b[0m     \u001b[1;32mdef\u001b[0m \u001b[0m_read_status\u001b[0m\u001b[1;33m(\u001b[0m\u001b[0mself\u001b[0m\u001b[1;33m)\u001b[0m\u001b[1;33m:\u001b[0m\u001b[1;33m\u001b[0m\u001b[0m\n\u001b[1;32m--> 258\u001b[1;33m         \u001b[0mline\u001b[0m \u001b[1;33m=\u001b[0m \u001b[0mstr\u001b[0m\u001b[1;33m(\u001b[0m\u001b[0mself\u001b[0m\u001b[1;33m.\u001b[0m\u001b[0mfp\u001b[0m\u001b[1;33m.\u001b[0m\u001b[0mreadline\u001b[0m\u001b[1;33m(\u001b[0m\u001b[0m_MAXLINE\u001b[0m \u001b[1;33m+\u001b[0m \u001b[1;36m1\u001b[0m\u001b[1;33m)\u001b[0m\u001b[1;33m,\u001b[0m \u001b[1;34m\"iso-8859-1\"\u001b[0m\u001b[1;33m)\u001b[0m\u001b[1;33m\u001b[0m\u001b[0m\n\u001b[0m\u001b[0;32m    259\u001b[0m         \u001b[1;32mif\u001b[0m \u001b[0mlen\u001b[0m\u001b[1;33m(\u001b[0m\u001b[0mline\u001b[0m\u001b[1;33m)\u001b[0m \u001b[1;33m>\u001b[0m \u001b[0m_MAXLINE\u001b[0m\u001b[1;33m:\u001b[0m\u001b[1;33m\u001b[0m\u001b[0m\n\u001b[0;32m    260\u001b[0m             \u001b[1;32mraise\u001b[0m \u001b[0mLineTooLong\u001b[0m\u001b[1;33m(\u001b[0m\u001b[1;34m\"status line\"\u001b[0m\u001b[1;33m)\u001b[0m\u001b[1;33m\u001b[0m\u001b[0m\n",
      "\u001b[1;32mC:\\Users\\Java\\Anaconda3\\lib\\socket.py\u001b[0m in \u001b[0;36mreadinto\u001b[1;34m(self, b)\u001b[0m\n\u001b[0;32m    584\u001b[0m         \u001b[1;32mwhile\u001b[0m \u001b[1;32mTrue\u001b[0m\u001b[1;33m:\u001b[0m\u001b[1;33m\u001b[0m\u001b[0m\n\u001b[0;32m    585\u001b[0m             \u001b[1;32mtry\u001b[0m\u001b[1;33m:\u001b[0m\u001b[1;33m\u001b[0m\u001b[0m\n\u001b[1;32m--> 586\u001b[1;33m                 \u001b[1;32mreturn\u001b[0m \u001b[0mself\u001b[0m\u001b[1;33m.\u001b[0m\u001b[0m_sock\u001b[0m\u001b[1;33m.\u001b[0m\u001b[0mrecv_into\u001b[0m\u001b[1;33m(\u001b[0m\u001b[0mb\u001b[0m\u001b[1;33m)\u001b[0m\u001b[1;33m\u001b[0m\u001b[0m\n\u001b[0m\u001b[0;32m    587\u001b[0m             \u001b[1;32mexcept\u001b[0m \u001b[0mtimeout\u001b[0m\u001b[1;33m:\u001b[0m\u001b[1;33m\u001b[0m\u001b[0m\n\u001b[0;32m    588\u001b[0m                 \u001b[0mself\u001b[0m\u001b[1;33m.\u001b[0m\u001b[0m_timeout_occurred\u001b[0m \u001b[1;33m=\u001b[0m \u001b[1;32mTrue\u001b[0m\u001b[1;33m\u001b[0m\u001b[0m\n",
      "\u001b[1;31mKeyboardInterrupt\u001b[0m: "
     ]
    }
   ],
   "source": [
    "if __name__ ==\"__main__\":\n",
    "    \n",
    "    tStart = time.time()\n",
    "    counter = 0\n",
    "    proxies = ipGet()\n",
    "    pageurl_list = []\n",
    "    article_urls = []\n",
    "    movie_dict_list=[]\n",
    "    movie_dict = {}\n",
    "    DOMAIN = \"http://www.filmcritics.org.hk\"\n",
    "    \n",
    "    headers = {\n",
    "        'user-agent':'Mozilla/5.0 (Windows NT 10.0; Win64; x64) AppleWebKit/537.36 (KHTML, like Gecko) Chrome/63.0.3239.84 Safari/537.36'\n",
    "        }\n",
    "    \n",
    "    resp = requests.get(DOMAIN + \"/taxonomy/term/1?page=0\", headers = headers, proxies = proxies)\n",
    "    lastpg = int(re.findall('href=\"(.+)\" title=\"到最後一頁\"', resp.text)[0].split('page=')[1])  #給出最後一頁的頁數,找出總共有幾頁\n",
    "    \n",
    "    \n",
    "    \n",
    "    with concurrent.futures.ThreadPoolExecutor(80) as executor:\n",
    "        executor.map(worker, article_urls)\n",
    "        \n",
    "    with open('hkfilmcritics.json', 'w') as f:\n",
    "        jd = json.dumps(movie_dict_list, ensure_ascii=False, indent=4)\n",
    "        jd.encode('utf-8')\n",
    "        f.write(jd)\n",
    "    # movie_dict_list\n",
    "\n",
    "    tEnd = time.time()\n",
    "    print(tEnd - tStart)"
   ]
  },
  {
   "cell_type": "code",
   "execution_count": 7,
   "metadata": {
    "scrolled": true
   },
   "outputs": [
    {
     "data": {
      "text/plain": [
       "'http://www.filmcritics.org.hk/%E9%9B%BB%E5%BD%B1%E8%A9%95%E8%AB%96/%E6%9C%83%E5%93%A1%E5%BD%B1%E8%A9%95/%E7%AC%AC54%E5%B1%86%E9%87%91%E9%A6%AC%E7%8D%8E%E8%A9%95%E5%AF%A9%E5%BE%8C%E8%A8%98'"
      ]
     },
     "execution_count": 7,
     "metadata": {},
     "output_type": "execute_result"
    }
   ],
   "source": [
    "article_urls[0]"
   ]
  },
  {
   "cell_type": "code",
   "execution_count": 7,
   "metadata": {},
   "outputs": [
    {
     "data": {
      "text/plain": [
       "864"
      ]
     },
     "execution_count": 7,
     "metadata": {},
     "output_type": "execute_result"
    }
   ],
   "source": [
    "len(movie_dict_list)"
   ]
  },
  {
   "cell_type": "code",
   "execution_count": 5,
   "metadata": {
    "scrolled": true
   },
   "outputs": [
    {
     "name": "stdout",
     "output_type": "stream",
     "text": [
      "---1---\n",
      "---2---\n",
      "---3---\n",
      "---4---\n",
      "http://www.filmcritics.org.hk/taxonomy/term/1?page=0\n",
      "http://www.filmcritics.org.hk/taxonomy/term/1?page=1\n",
      "http://www.filmcritics.org.hk/taxonomy/term/1?page=2\n",
      "http://www.filmcritics.org.hk/taxonomy/term/1?page=3\n",
      "http://www.filmcritics.org.hk/taxonomy/term/1?page=4\n",
      "http://www.filmcritics.org.hk/taxonomy/term/1?page=5\n",
      "http://www.filmcritics.org.hk/taxonomy/term/1?page=6\n",
      "http://www.filmcritics.org.hk/taxonomy/term/1?page=7\n",
      "http://www.filmcritics.org.hk/taxonomy/term/1?page=8\n",
      "http://www.filmcritics.org.hk/taxonomy/term/1?page=9\n",
      "---5---\n",
      "---6---\n"
     ]
    }
   ],
   "source": [
    "    tStart = time.time()\n",
    "    counter = 0\n",
    "    proxies = ipGet()\n",
    "    pageurl_list = []\n",
    "    article_urls = []\n",
    "    movie_dict_list=[]\n",
    "    movie_dict = {}\n",
    "    print(\"---1---\")\n",
    "    DOMAIN = \"http://www.filmcritics.org.hk\"\n",
    "    \n",
    "    headers = {\n",
    "        'user-agent':'Mozilla/5.0 (Windows NT 10.0; Win64; x64) AppleWebKit/537.36 (KHTML, like Gecko) Chrome/63.0.3239.84 Safari/537.36'\n",
    "        }\n",
    "    \n",
    "    print(\"---2---\")\n",
    "    resp = requests.get(DOMAIN + \"/taxonomy/term/1?page=0\", headers = headers)\n",
    "    print(\"---3---\")\n",
    "    lastpg = int(re.findall('href=\"(.+)\" title=\"到最後一頁\"', resp.text)[0].split('page=')[1])  #給出最後一頁的頁數,找出總共有幾頁\n",
    "    print(\"---4---\")\n",
    "    \n",
    "    for pg in range(0, lastpg +1):\n",
    "        p = DOMAIN + \"/taxonomy/term/1?page=%s\"%pg\n",
    "        pageurl_list.append(p)\n",
    "        \n",
    "    for page in pageurl_list[:10]:\n",
    "        print(page)\n",
    "#         page_crawler(page)        \n",
    "    print(\"---5---\")\n",
    "\n",
    "#     with concurrent.futures.ThreadPoolExecutor(1) as executor:\n",
    "#         executor.map(worker, article_urls)\n",
    "    print(\"---6---\")    \n",
    "#     with open('hkfilmcritics.json', 'a') as f:\n",
    "#         jd = json.dumps(movie_dict_list, ensure_ascii=False, indent=4)\n",
    "#         jd.encode('utf-8')\n",
    "#         f.write(jd)\n",
    "\n",
    "\n",
    "#     tEnd = time.time()\n",
    "#     print(tEnd - tStart)"
   ]
  },
  {
   "cell_type": "code",
   "execution_count": 6,
   "metadata": {
    "collapsed": true
   },
   "outputs": [],
   "source": [
    "page_crawler('http://www.filmcritics.org.hk/taxonomy/term/1?page=0')"
   ]
  },
  {
   "cell_type": "code",
   "execution_count": 7,
   "metadata": {},
   "outputs": [
    {
     "data": {
      "text/plain": [
       "['http://www.filmcritics.org.hk/%E9%9B%BB%E5%BD%B1%E8%A9%95%E8%AB%96/%E6%9C%83%E5%93%A1%E5%BD%B1%E8%A9%95/%E7%AC%AC54%E5%B1%86%E9%87%91%E9%A6%AC%E7%8D%8E%E8%A9%95%E5%AF%A9%E5%BE%8C%E8%A8%98',\n",
       " 'http://www.filmcritics.org.hk/%E9%9B%BB%E5%BD%B1%E8%A9%95%E8%AB%96/%E6%9C%83%E5%93%A1%E5%BD%B1%E8%A9%95/%E3%80%8Ax%E8%81%96%E6%B2%BB%E3%80%8B%EF%BC%9A%E4%B8%8D%E6%98%AF%E5%9C%A8%E6%B2%89%E9%BB%98%E4%B8%AD%E7%88%86%E7%99%BC%EF%BC%8C%E4%BE%BF%E6%98%AF%E5%9C%A8%E5%AF%82%E9%9D%9C%E4%B8%AD%E6%AD%BB%E5%8E%BB',\n",
       " 'http://www.filmcritics.org.hk/%E9%9B%BB%E5%BD%B1%E8%A9%95%E8%AB%96/%E6%96%87%E7%AB%A0%E8%96%88%E8%90%83/%E3%80%8Ax%E8%81%96%E6%B2%BB%E3%80%8B%EF%BC%9A%E6%8F%AD%E9%96%8B%E3%80%8C%E5%82%AC%E7%9C%A0%E3%80%8D%E7%9A%84%E7%A5%9E%E7%A7%98%E9%9D%A2%E7%B4%97',\n",
       " 'http://www.filmcritics.org.hk/%E9%9B%BB%E5%BD%B1%E8%A9%95%E8%AB%96/%E9%9B%BB%E5%BD%B1%E6%96%B0%E4%BA%BA%E9%A1%9E/%E3%80%8A%E8%A1%80%E8%A7%80%E9%9F%B3%E3%80%8B%E5%B0%8D%E5%BC%B5%E6%84%9B%E7%8E%B2%E7%9A%84%E5%80%9F%E7%94%A8%E8%88%87%E5%8F%A6%E4%B8%80%E7%A8%AE%E8%A9%AE%E9%87%8B',\n",
       " 'http://www.filmcritics.org.hk/%E9%9B%BB%E5%BD%B1%E8%A9%95%E8%AB%96/%E6%9C%83%E5%93%A1%E5%BD%B1%E8%A9%95/%E3%80%8A%E8%90%AC%E4%B8%96%E9%AD%94%E6%98%9F%E3%80%8B%EF%BC%9A%E6%8B%BF%E6%92%92%E5%8B%92%E6%8B%9C%E6%81%A9%E7%9C%9F%E5%AF%A6%E5%8F%88%E7%A5%9E%E7%A7%98%E7%9A%84%E4%B8%80%E7%94%9F',\n",
       " 'http://www.filmcritics.org.hk/%E9%9B%BB%E5%BD%B1%E8%A9%95%E8%AB%96/%E9%9B%BB%E5%BD%B1%E6%96%B0%E4%BA%BA%E9%A1%9E/%E8%8F%AF%E9%BA%97%E6%AD%A3%E7%A2%BA%E7%9A%84%E5%A4%B1%E6%95%97%E4%B9%8B%E4%BD%9C%E2%94%80%E2%94%80%E3%80%8A%E6%9D%B1%E6%96%B9%E5%BF%AB%E8%BB%8A%E8%AC%80%E6%AE%BA%E6%A1%88%E3%80%8B',\n",
       " 'http://www.filmcritics.org.hk/%E9%9B%BB%E5%BD%B1%E8%A9%95%E8%AB%96/%E9%9B%BB%E5%BD%B1%E6%96%B0%E4%BA%BA%E9%A1%9E/%E3%80%8A%E7%AC%AC%E4%B8%89%E5%BA%A6%E6%AE%BA%E4%BA%BA%E3%80%8B%EF%BC%9A%E6%9B%B4%E6%B7%B1%E5%B1%A4%E6%AC%A1%E7%9A%84%E6%8E%A2%E7%B4%A2',\n",
       " 'http://www.filmcritics.org.hk/%E9%9B%BB%E5%BD%B1%E8%A9%95%E8%AB%96/%E6%9C%83%E5%93%A1%E5%BD%B1%E8%A9%95/%E5%A6%82%E4%BD%95%E8%A9%95%E5%83%B9%E9%88%B4%E6%9C%A8%E6%B8%85%E9%A0%86%E5%8F%8A%E5%85%B6%E9%9B%BB%E5%BD%B1',\n",
       " 'http://www.filmcritics.org.hk/%E9%9B%BB%E5%BD%B1%E8%A9%95%E8%AB%96/%E6%9C%83%E5%93%A1%E5%BD%B1%E8%A9%95/%E3%80%8A%E6%B4%BB%E6%AD%BB%E4%BA%BA%E4%B9%8B%E6%97%85%E3%80%8B%EF%BC%9A%E6%96%87%E5%AD%97%E5%A5%97%E9%A4%90%E8%87%B3%E6%9C%AC%E8%8D%89%E7%B6%B1%E7%9B%AE',\n",
       " 'http://www.filmcritics.org.hk/%E9%9B%BB%E5%BD%B1%E8%A9%95%E8%AB%96/%E6%9C%83%E5%93%A1%E5%BD%B1%E8%A9%95/%E5%BE%9E%E5%A4%A9%E5%9C%B0%E5%88%9D%E9%96%8B%E5%88%B0%E9%81%99%E9%81%A0%E6%9C%AA%E4%BE%86%EF%BC%9A%E3%80%8A2001%E5%A4%AA%E7%A9%BA%E6%BC%AB%E9%81%8A%E3%80%8B%E7%9A%84%E9%96%8B%E5%89%B5%E6%80%A7']"
      ]
     },
     "execution_count": 7,
     "metadata": {},
     "output_type": "execute_result"
    }
   ],
   "source": [
    "article_urls"
   ]
  },
  {
   "cell_type": "code",
   "execution_count": 8,
   "metadata": {},
   "outputs": [
    {
     "name": "stdout",
     "output_type": "stream",
     "text": [
      "http://www.filmcritics.org.hk/%E9%9B%BB%E5%BD%B1%E8%A9%95%E8%AB%96/%E6%9C%83%E5%93%A1%E5%BD%B1%E8%A9%95/%E7%AC%AC54%E5%B1%86%E9%87%91%E9%A6%AC%E7%8D%8E%E8%A9%95%E5%AF%A9%E5%BE%8C%E8%A8%98\n",
      "http://www.filmcritics.org.hk/%E9%9B%BB%E5%BD%B1%E8%A9%95%E8%AB%96/%E6%9C%83%E5%93%A1%E5%BD%B1%E8%A9%95/%E3%80%8Ax%E8%81%96%E6%B2%BB%E3%80%8B%EF%BC%9A%E4%B8%8D%E6%98%AF%E5%9C%A8%E6%B2%89%E9%BB%98%E4%B8%AD%E7%88%86%E7%99%BC%EF%BC%8C%E4%BE%BF%E6%98%AF%E5%9C%A8%E5%AF%82%E9%9D%9C%E4%B8%AD%E6%AD%BB%E5%8E%BB\n",
      "http://www.filmcritics.org.hk/%E9%9B%BB%E5%BD%B1%E8%A9%95%E8%AB%96/%E6%96%87%E7%AB%A0%E8%96%88%E8%90%83/%E3%80%8Ax%E8%81%96%E6%B2%BB%E3%80%8B%EF%BC%9A%E6%8F%AD%E9%96%8B%E3%80%8C%E5%82%AC%E7%9C%A0%E3%80%8D%E7%9A%84%E7%A5%9E%E7%A7%98%E9%9D%A2%E7%B4%97\n",
      "http://www.filmcritics.org.hk/%E9%9B%BB%E5%BD%B1%E8%A9%95%E8%AB%96/%E9%9B%BB%E5%BD%B1%E6%96%B0%E4%BA%BA%E9%A1%9E/%E3%80%8A%E8%A1%80%E8%A7%80%E9%9F%B3%E3%80%8B%E5%B0%8D%E5%BC%B5%E6%84%9B%E7%8E%B2%E7%9A%84%E5%80%9F%E7%94%A8%E8%88%87%E5%8F%A6%E4%B8%80%E7%A8%AE%E8%A9%AE%E9%87%8B\n",
      "http://www.filmcritics.org.hk/%E9%9B%BB%E5%BD%B1%E8%A9%95%E8%AB%96/%E6%9C%83%E5%93%A1%E5%BD%B1%E8%A9%95/%E3%80%8A%E8%90%AC%E4%B8%96%E9%AD%94%E6%98%9F%E3%80%8B%EF%BC%9A%E6%8B%BF%E6%92%92%E5%8B%92%E6%8B%9C%E6%81%A9%E7%9C%9F%E5%AF%A6%E5%8F%88%E7%A5%9E%E7%A7%98%E7%9A%84%E4%B8%80%E7%94%9F\n",
      "http://www.filmcritics.org.hk/%E9%9B%BB%E5%BD%B1%E8%A9%95%E8%AB%96/%E9%9B%BB%E5%BD%B1%E6%96%B0%E4%BA%BA%E9%A1%9E/%E8%8F%AF%E9%BA%97%E6%AD%A3%E7%A2%BA%E7%9A%84%E5%A4%B1%E6%95%97%E4%B9%8B%E4%BD%9C%E2%94%80%E2%94%80%E3%80%8A%E6%9D%B1%E6%96%B9%E5%BF%AB%E8%BB%8A%E8%AC%80%E6%AE%BA%E6%A1%88%E3%80%8B\n",
      "http://www.filmcritics.org.hk/%E9%9B%BB%E5%BD%B1%E8%A9%95%E8%AB%96/%E9%9B%BB%E5%BD%B1%E6%96%B0%E4%BA%BA%E9%A1%9E/%E3%80%8A%E7%AC%AC%E4%B8%89%E5%BA%A6%E6%AE%BA%E4%BA%BA%E3%80%8B%EF%BC%9A%E6%9B%B4%E6%B7%B1%E5%B1%A4%E6%AC%A1%E7%9A%84%E6%8E%A2%E7%B4%A2\n",
      "http://www.filmcritics.org.hk/%E9%9B%BB%E5%BD%B1%E8%A9%95%E8%AB%96/%E6%9C%83%E5%93%A1%E5%BD%B1%E8%A9%95/%E5%A6%82%E4%BD%95%E8%A9%95%E5%83%B9%E9%88%B4%E6%9C%A8%E6%B8%85%E9%A0%86%E5%8F%8A%E5%85%B6%E9%9B%BB%E5%BD%B1\n",
      "http://www.filmcritics.org.hk/%E9%9B%BB%E5%BD%B1%E8%A9%95%E8%AB%96/%E6%9C%83%E5%93%A1%E5%BD%B1%E8%A9%95/%E3%80%8A%E6%B4%BB%E6%AD%BB%E4%BA%BA%E4%B9%8B%E6%97%85%E3%80%8B%EF%BC%9A%E6%96%87%E5%AD%97%E5%A5%97%E9%A4%90%E8%87%B3%E6%9C%AC%E8%8D%89%E7%B6%B1%E7%9B%AE\n",
      "http://www.filmcritics.org.hk/%E9%9B%BB%E5%BD%B1%E8%A9%95%E8%AB%96/%E6%9C%83%E5%93%A1%E5%BD%B1%E8%A9%95/%E5%BE%9E%E5%A4%A9%E5%9C%B0%E5%88%9D%E9%96%8B%E5%88%B0%E9%81%99%E9%81%A0%E6%9C%AA%E4%BE%86%EF%BC%9A%E3%80%8A2001%E5%A4%AA%E7%A9%BA%E6%BC%AB%E9%81%8A%E3%80%8B%E7%9A%84%E9%96%8B%E5%89%B5%E6%80%A7\n"
     ]
    }
   ],
   "source": [
    "with concurrent.futures.ThreadPoolExecutor(1) as executor:\n",
    "    executor.map(worker, article_urls)"
   ]
  },
  {
   "cell_type": "code",
   "execution_count": 10,
   "metadata": {},
   "outputs": [
    {
     "ename": "UnicodeEncodeError",
     "evalue": "'cp950' codec can't encode character '\\u7740' in position 494: illegal multibyte sequence",
     "output_type": "error",
     "traceback": [
      "\u001b[1;31m---------------------------------------------------------------------------\u001b[0m",
      "\u001b[1;31mUnicodeEncodeError\u001b[0m                        Traceback (most recent call last)",
      "\u001b[1;32m<ipython-input-10-778eca8f0294>\u001b[0m in \u001b[0;36m<module>\u001b[1;34m()\u001b[0m\n\u001b[0;32m      2\u001b[0m     \u001b[0mjd\u001b[0m \u001b[1;33m=\u001b[0m \u001b[0mjson\u001b[0m\u001b[1;33m.\u001b[0m\u001b[0mdumps\u001b[0m\u001b[1;33m(\u001b[0m\u001b[0mmovie_dict_list\u001b[0m\u001b[1;33m,\u001b[0m \u001b[0mensure_ascii\u001b[0m\u001b[1;33m=\u001b[0m\u001b[1;32mFalse\u001b[0m\u001b[1;33m,\u001b[0m \u001b[0mindent\u001b[0m\u001b[1;33m=\u001b[0m\u001b[1;36m4\u001b[0m\u001b[1;33m)\u001b[0m\u001b[1;33m\u001b[0m\u001b[0m\n\u001b[0;32m      3\u001b[0m     \u001b[0mjd\u001b[0m\u001b[1;33m.\u001b[0m\u001b[0mencode\u001b[0m\u001b[1;33m(\u001b[0m\u001b[1;34m'utf-8'\u001b[0m\u001b[1;33m)\u001b[0m\u001b[1;33m\u001b[0m\u001b[0m\n\u001b[1;32m----> 4\u001b[1;33m     \u001b[0mf\u001b[0m\u001b[1;33m.\u001b[0m\u001b[0mwrite\u001b[0m\u001b[1;33m(\u001b[0m\u001b[0mjd\u001b[0m\u001b[1;33m)\u001b[0m\u001b[1;33m\u001b[0m\u001b[0m\n\u001b[0m",
      "\u001b[1;31mUnicodeEncodeError\u001b[0m: 'cp950' codec can't encode character '\\u7740' in position 494: illegal multibyte sequence"
     ]
    }
   ],
   "source": [
    "with open('hkfilmcritics_999.json', 'a') as f:\n",
    "    jd = json.dumps(movie_dict_list, ensure_ascii=False, indent=4)\n",
    "    jd.encode('utf-8')\n",
    "    f.write(jd)"
   ]
  },
  {
   "cell_type": "code",
   "execution_count": 9,
   "metadata": {},
   "outputs": [
    {
     "data": {
      "text/plain": [
       "[{'author': '吳月華',\n",
       "  'criticTitle': '《X聖治》：不是在沉默中爆發，便是在寂靜中死去',\n",
       "  'movieTitle': 'X聖治',\n",
       "  'post': '平凡的幽暗在寂寥的夜深，提著公事包的他在燈光閃動的隧道拆下一條水喉通。在灰濛濛天色下的海灘，他獨個兒在海灘看文件。在灰暗的傍晚，正在巡邏的他看到有人站在屋頂欲跳下。在半明半暗的診症室，她根據程序冰冷地向病人問症和替病人檢查，沒有正視過病人。城市看似井井有條，他們都是如此平凡，上班族、教師、警察和醫生，都是從事最講究自我規範的行業。在恆常的現實，我們無法發現城市原來是一個偌大的催眠場所，從小透過不同方式向我們植入規矩以限制我們的行為，人被城市各種制度馴化，這些規矩、制度不是催眠暗示嗎？《X聖治》不只以色調和古舊的場景顯示城市的壓迫和無望，又以不絕的海濤拍岸、洗衣機等空洞和重複的聲音，渲染過度壓抑的城市生活帶來的沉悶和孤寂，最後更以冷靜的方式宣洩常人已無法察覺的壓力。平靜的宣洩窗簾縫間一線陽光照進暗室，他揮動水喉通打向坐在床上的妓女，妓女無聲地死去……他光著身子、抱着雙膝顫抖地躲在酒店走廊的暗格內，就像嬰兒安靜地回歸到母體。在寂靜的清晨，他從家的上層越窗躍下……羽毛飄在血泊中，予人如釋重負的感覺。在陽光照耀下的警局前，他拔出槍射殺同袍……他冷靜地將同袍的屍體拖入警局內，就如日常生活的行動。在無人的男廁內，她拿著手術刀剖開一名男子的頸部……水從洗手盤溢出，猶如淨化她對生活不滿意的苦悶。《X聖治》用靜止的遠景鏡拍攝一幕幕施暴者在沉默中爆發，死者在寂靜中死去的場面，以平凡的筆觸描寫暴力地釋放情緒的場面，而這些場面較他們行兇前較舒暢，像撥開了眾人生活的霧霾。外表如此善良的他們為何能清醒地走到這極端的一步？步入深淵在深夜，他孤獨，影片沒有顯示催眠者與他有交談。在晦暗的傍晚，他孤獨，間宮與他交談；他帶間宮回家，間宮以打火機催眠了他。在光亮的警察局內，他有同袍，但被冷待。同袍離去後，間宮以打火機催眠了警察。日間，在醫院內，她沒有與醫護人員交流，她不讓間宮抽煙。從她的眼神和行為可知，她明顯已被催眠。影片是很有意識地以環境和光度顯示片中人的心理狀態，又一步步揭示催眠的過程，但省去殺人的場面。佐久間告知高部催眠與邪教儀式的關聯，佐久間已被催眠，但沒有展示他最後自殺的過程。被催眠者有意識反抗，愈接近真相，愈無法自拔地墮入被催眠的深淵。其實間宮是催眠者還是被催眠者？高部走進頽敗的佈道場內，間宮走出來說話，高部殺了間宮。高部在餐廳內輕鬆愉快地用餐，在遠處，女侍應拿起一柄刀。間宮究竟是釋放都市人壓力的使者？還是被城市淘空情感和意識的失憶者？其實催眠是讓被催眠者遊走於被控制與比現實更清醒的精神狀態之間。如此一來，有必要將這齣謎一樣的電影如此拆解嗎？寫於被驚雷狂雨和亢奮城市飲品弄至一夜無眠後寧靜的清晨。'},\n",
       " {'author': '尹婉萍',\n",
       "  'criticTitle': '《X聖治》：揭開「催眠」的神秘面紗',\n",
       "  'movieTitle': 'X聖治',\n",
       "  'post': ' 提及「催眠」二字，教人總是被誤導為邪門手法或邪教派別，就如電影《X聖治》中，鋪排一本有記載催眠的書《邪教》一樣，甚至令人自然聯想到緩慢搖擺的陀錶，治療師對人、事物及環境的操控。影片亦不時帶出各個角色無形地被催眠，並不斷以催眠與謀殺、內在情感壓迫作為主線，把催眠塑造成「魅惑」及教人害怕，像現實生活中，魔術師施以妙手，瞬間把人催眠於不知不覺，令人如靈魂出竅，任由擺佈。難怪「催眠」已被扭曲得體無完膚，與事實本身，大相逕庭。事實上，於心理學的領域，催眠是心理輔導模式之一，我們稱之為「催眠治療」。單從字面去演繹，「催」的意思是帶動，可以利用當事人的心跳、呼吸、症狀或環境等方法，作為引導，再配合不同的提示，由意識狀態（只專注思維分析、邏輯推論）延伸至潛意識狀態（分析之外，同時專注內心主觀感覺）。所以整個過程，當事人是絕對清晰知道自己的心意，並且掌管自己對外對內的反應。「眠」並非指睡眠，而是當事人能身心一致地，專注於一種自己選擇的健康情緒。這個狀態可以是放鬆、優游、淡定、安心、開心、期待、興奮或刺激等等。香港大學社會工作及社會行政學系榮譽助理教授鄧國永博士強調，「催眠治療」是協助當事人進入內心世界，在潛意識層面釐清自己內在情緒困擾的根源，並徹底處理，讓生活回復正軌。它是一個探索人內心、處理內在情緒的方法，過程並不神秘，一般會有既定的原則或程序，但所有的方式，當事人是同意及清楚了解，得悉過程所帶來的不同身心反應。通常治療師會協助當事人進入心智情感一致的狀態（上述談及潛意識活躍的狀態）或治療師會協助當事人掌握如何帶動自己進入心智情感一致的狀態，我們稱為催眠意境，腦電波的狀態顯示為ɑ波（Alpha）。此時，身體的意識處於輕鬆的狀態，但潛意識變得活躍及較易接收訊息，人毋須驅動分析能力也能夠自然地接觸內心世界，那是和情緒息息相關的地方，在這裏處理情緒來得直接及徹底。因為在意識的層面，經過大腦分析說出的話，部份內容被隱藏、淡化，非真正心底話。通過催眠接觸到潛意識，人才能夠如實地感受內在的情緒及自己，逐步明白內在的狀況。由於潛意識記錄的都是個人的經歷及記憶，當事人特別體會到往事的影響力，亦明白自己可以如何處理，如：接受、釋放、轉變等，過後才有釋懷或視野改變的效果。不單如此，透過催眠意境的運用，讓當事人回想及面對往事，從而放下往事帶來的負面情緒，不再與這些具破壞力的情緒糾結，重新經歷及思考。由此，當事人便能從中讓負面情緒轉化，釋放具破壞力的能量，重建內在力量及資源。最後，治療師會跟當事人探討，如何把催眠治療中獲得的能力，應用於日常生活中。「催眠意境」有助當事人尋找出問題的根源及相關的提示，這些提示的表達可以有多於言詞的方式，它可以是以象徵性語言，例如：影像、符號、身心反應、色彩或聯想等等，讓當事人可以透過這些非慣性意識狀態的溝通，讓以往慣性的藉口或掩飾的反應，無從介入及無所遁形，當事人便可以更直接地接觸解決問題的訊息。所以，影片中隱喻都市人的迷失或壓抑，甚或是被現實生活折磨、洗禮，從催眠治療的角度而言，實是我們經歷現實生活、面對不同階段的挑戰時，如何正面處理內心的掙扎及其帶來的衝擊，從中讓我們能在窘境或危機中成長，增強內在抗逆力。「心病還須心藥醫」，這句話老土但真實，人是要面對最赤裸的內心。但是，它很多時候未必與現實上外在的自己完全一致。內在「不咬弦」，往往衍生各種身心行為的問題。倘若，我們置之不理或是以頭痛醫頭，腳痛醫腳，對於「內心」的治癒根本是枉費心力，徒勞無功。'},\n",
       " {'author': '盧敏芝',\n",
       "  'criticTitle': '《血觀音》對張愛玲的借用與另一種詮釋',\n",
       "  'movieTitle': '血觀音',\n",
       "  'post': '導演楊雅喆在不同訪問中屢次提及張愛玲，演員也提及導演要她們讀《金鎖記》，事實上《血觀音》中的不少地方也很難不讓人聯想到張愛玲，但整體不落窠臼，導演在相關情節中均賦予了既不同且精采的發揮和詮釋。《血觀音》最後在醫院病榻上的那一幕分明讓人想到《金鎖記》結尾曹七巧老去時躺在煙鋪上那驚心動魄的一段，翠玉鐲子作為黃金枷鎖的意象，以至七巧回顧自己一生時所流的那一滴眼淚，在《血觀音》中都得到了畫面上的繼承。《金鎖記》寫七巧「三十年來她戴著黃金的枷。她用那沉重的枷角劈殺了幾個人，沒死的也送了半條命」；而在《血觀音》中，棠夫人劈殺了棠寧，棠真也送掉了一條腿──但棠真是否送了半條命，卻視乎看官怎樣詮釋，天真無邪的她雖因親情、愛情、友情的統統幻滅已然死去，卻以強悍之姿活下來成為一名女強人，但與此同時，她卻是「回不去了」，成了棠夫人不折不扣的繼承者，這可說是女性命運的愈演愈烈，以及對母系源頭的反噬。在這重意義上，導演為《金鎖記》的結語「三十年前的月亮早已沉下去，三十年前的人也死了，然而三十年前的故事還沒完──完不了」開啟了另一種詮釋的可能──那「完不了」的結局，就是下一代繼承了自戕戕人的黃金枷，正如電影最後棠真同樣戴著翠玉鐲子，與棠夫人並舉──兩（三）人／代的命運如手銬般無分你我地鎖在一起，共同迎接那無愛的未來。《血觀音》還教我們想起不只一部張愛玲作品。最直接是〈心經〉同樣在題目上有著對佛教意象的借用，兩部作品同樣寫母女之間血濃於水卻又劍拔弩張的微妙關係，但在《血觀音》中，這層母女之間的糾葛發揮得更為複雜淋漓，例如棠寧對棠夫人的渴求母愛又拒斥利用箝制、棠寧對棠真的無法言宣只能迂迴表達的母愛、棠真對棠夫人的順從到心機……此外，《血觀音》更為圓足地指涉回應題目中的佛教意象：院長夫人篤信觀音，棠夫人誠心唸著〈心經〉與〈往生咒〉，畫面與內涵之間的嚴重斷裂形成了電影中最深刻的反諷。斷臂觀音不帶來保佑擋災或救贖罪愆的任何可能，她無言地見證著人間一切的急促腐朽，若視之為超然人間，她就如電影中擔當上帝視角的盲藝說唱人般，唱著「天理循環，報應不爽」、「若然未報，時辰未到」的傳統民間警世論調。然而她更似是象徵墮落凡間的道成肉身，而那便是棠真──《血觀音》對過去事件的追述從一開始便是由棠真的視角出發，她目睹一切最不能放在日光下的齷齪真相（尤其是性愛與自身身世），觀音斷臂與棠真斷肢首尾呼應，棠真最後從不涉人事的純潔天使，蛻變成歷盡千劫的暗黑修羅（《血觀音》原來名稱便是屬意《修羅花》）。還想到在〈第一爐香〉中，葛薇龍與姑母雖是骨肉至親，兩人的實際關係卻是建築在金錢與肉體之上的利益交換，而《血觀音》給了我們更陰暗的結局，葛薇龍至少可以真的愛著喬琪喬，儘管代價不菲；棠真卻是愛的全方位失落、無可寄託。從電影的主題來說，大概棠真才是真正的主角，她是過去事件的見證者，也是當事人，而從她繼承了棠夫人的身家事業可知，她並不會是終結者，另一個棠夫人的故事恐怕正要上場開展──在《血觀音》的詮釋中，這樣的女性命運的延宕，恐怕是更加黑暗、更加絕望。'},\n",
       " {'author': '鄭傳鍏',\n",
       "  'criticTitle': '《萬世魔星》：拿撒勒拜恩真實又神秘的一生',\n",
       "  'movieTitle': '萬世魔星',\n",
       "  'post': ' 耶穌基督和祂的時代一向是電影人喜歡的題材，由默片年代開始，祂和祂身邊的門徒已經不斷登上大銀幕，加上虛構的同時代人物（例如賓虛），「公元」頭幾十年的世界變成了史詩電影源源不絕的靈感泉源。在這些電影出場的人物之中，最具爭議性的可能還是英國喜劇組合踎低噴飯（Monty Python）作品《萬世魔星》（Life of Brian）的主人翁「拿撒勒的拜恩」。這部1979年的電影歷年招來的抗議和禁映不少，新舊教教士以至猶太拉比中都不乏這部電影的敵人指控其褻瀆。雖然，有些指控者其實遲了入場，連拜恩不是耶穌這點都沒有搞清楚……但說到底，這部喜劇和那些滿足千千萬萬基督徒想像的「聖經史詩片」有些什麼異同，搞到三十多年後還不時傳出禁映的消息？作為一個喜劇組合，踎低噴飯一向會拿西方世界的文化傳統做文章，在《萬世魔星》之前，這類作品最成功的例子是《踎低噴飯：勇奪聖杯》（Monty Python and the Holy Grail，1975）。這部把大英帝國的阿瑟王與圓桌武士傳說徹底反轉的電影十分成功，於是他們下一部電影把目光轉向更為久遠宏大的西方傳統──聖經故事，但和《勇奪聖杯》把阿瑟王拍成小丑般的傻瓜不同，《萬世魔星》裡的確有耶穌出現，不過他的出現是完全正常的，可說是合乎福音書中的形象。耶穌出現在電影片頭字幕結束後，主角拜恩已由初生嬰兒變成了男子漢，他和他的母親是在山上聆聽耶穌「登山寶訓」的群眾之一。本片處理這個著名的場面和其他聖經電影最大的不同，在於鏡頭很快就從發表演說的耶穌身邊拉開，放在邊緣位置聽他講話的人群上。這種取態其實是一個很日常的思考，在古代世界沒有擴音機，發表演說的人是如何讓聽眾知道自己所講？或者說你站立的位置在人群邊緣的話，又要怎樣接收「山上」講者的說話？其實可以是很抽離的一件事，所以拜恩的媽媽不耐煩要去參加石刑，也有人把「peacemaker」聽成了「cheesemaker」，笑料就是從這些地方來，耶穌本人還是很嚴肅正經的（主角拜恩其實也是一個嚴肅正經的人）。踎低噴飯經營的喜劇場面，說起來是對古代社會「日常生活」細節的發揮，像石刑那場戲，當時的猶太人女性不可以參與公眾集會，那她們如果想要參加這種集會，要做些甚麼事，會發生甚麼情況呢？又例如，面對當時遍地的真假先知，猶太人又是如何去挑選、分辨的呢？是他們講「故事」的技巧，還是說話內容的合理連戲？當時的「殖民者」羅馬人又是怎樣和猶太人互動（教曉他們正確拉丁文重要過制止散佈反羅馬標語）？主角拜恩疑似是羅馬軍官的私生子？當然還有最冒犯教徒的釘十字架，到底當時的人是怎樣看釘十字架這種死刑？是不是人人都覺得這是最可怕、最痛苦的刑罰？總的來說，《萬世魔星》是一部依託聖經電影而出現的喜劇，場景是新約聖經的時代，聖經電影會出現的元素如人群、羅馬人、猶太先知、十字架……它全部都有，甚至連在突尼斯拍的外景，也借用了一部聖經電視劇──法蘭高齊費里尼導演的《萬世救主》留下的佈景和服裝，不同的地方是這部電影把視點轉向了當時的一個普通人──拜恩的「平凡」一生而已。而對於沒有基督教信仰的觀眾來說，拜恩釘十字架的整個過程，包括那首「望向人生光明面」的飲歌，是整部電影熱鬧討喜的高潮，但對基督徒來說，這可以是嚴重的冒犯。那是不是說《萬世魔星》這部電影其實並不神秘，只是一個平凡人的鬧劇（拜恩甚至不像賓虛那樣是猶太貴族出身）？對於有神秘學素養的觀眾來說未必是，關鍵的一點是來自拜恩（Brian）這個名字。本來 Brian 這個名字的來源是賽爾特、高盧、愛爾蘭傳統，意思是高大、高貴、強壯等等，而我有點懷疑編導選用這個名字是因為在法文之中 Brian 的變體 Bryan 有蛆蟲的意思……不過有論者指出，Brian 這個字和猶太神秘學卡巴拉中的術語「briah」只有一字之差。所謂的 briah 是上帝由自身創造世界萬物過程中的一個環節，舊約《以賽亞書》中的說法是：「就是凡稱為我名下（Atzilut『流溢／接近』）的人，是我為自己的榮耀創造的（Beriah「創造」），是我所造成（Yetzirah『形成』，所造作的（Asiyah『行動』）。」而 Beriah 就是 briah 的另一個寫法，於是 Brian 在這裡又被加上了「創造」的意義，如果用這個眼光去看《萬世魔星》這部電影，片頭字幕中拜恩不斷向下跌的畫面，很自然讓人想到「卡巴拉」描述創世過程中的「下降鏈條」。如果從這個視點來看，《萬世魔星》自然是一部充滿了神秘符號的電影，而片中拜恩就像耶穌那樣有著一大群追隨者，也就變得合情合理，前後呼應了。其實，就算不訴諸猶太人的神秘古代哲學，這部電影還有天馬行空的外星來客（讓拜恩可以避過羅馬人的喜劇處理），各大反羅馬陣營之間的明爭暗鬥，抵抗組織內部的光說不練等等像是胡鬧的喜劇，其實倒是十分寫實的政治陰謀論，而其中關於性別角色的辯論，今天看來就像是預言一般。至於觀眾看這部電影應該採取神秘還是寫實的立場，要跟隨「鞋子」還是「葫蘆」？正如我們的主角拜恩所言，還是要靠自己去決定。不過最要緊還是望向人生的光明面這一點，看電影時就放輕鬆，笑一個。'},\n",
       " {'author': '盧敏芝',\n",
       "  'criticTitle': '華麗正確的失敗之作──《東方快車謀殺案》',\n",
       "  'movieTitle': '東方快車謀殺案',\n",
       "  'post': '當一部電影經過各種精密計算，要有的都有了，從票房角度來看必然是萬無一失的──從原著讀者所提供的廣大鐵粉，到龐大華麗的卡士確保不知劇情的觀眾亦會踴躍進場；從內容方面的懸疑、推理、動作、溫情各種元素匯聚，乃至大玩攝影技法、CGI 大場面、各大電影明星的演技大鬥法，可謂極盡視聽之娛──在簡尼夫班納（Kenneth Branagh）自導自演的《東方快車謀殺案》（Murder on the Orient Express, 2017）中，從商業到政治的計算皆可算是貫徹始終且極度正確，但亦可謂機關算盡太聰明，若與阿嘉莎克莉絲蒂（Agatha Christie）原著小說作一比較的話，電影可說是徒具其形的失敗之作。電影從一開始便不吝篇幅地加插不少原著所無的情節，這些情節很大程度上是以畫面的華麗為首要考慮，背後內涵卻顯單薄。電影開頭便以東方主義作為賣點，通過一名中東僮僕的邀請帶領觀眾瀏覽耶路撒冷的風土人情；為帶出白羅的神機妙算，安排案件發生的地點、人物和事件分別是哭牆、三名神職人員和神壇聖物被盜，一切無疑是為了迎合觀眾的遠東想像而刻意營造的異國情調。為了更進一步迎合觀眾口味，電影中的白羅更恍如福爾摩斯上身，不但從現場環境蒐證找出犯人（而非通過「小小的灰色腦細胞」的推理），還竟然未卜先知地在哭牆上預先插上手杖截停犯人（預示電影後段福爾摩斯式的闖門而入與打鬥動作戲）。相比起來，小說一開始白羅便已身處敘利亞阿勒坡（Aleppo）的列車上，基本上全書從頭到尾沒有任何有關東方異國情調的營造和書寫，節奏明快。儘管阿勒坡現於戰火之下自是無法作為電影拍攝場景，也明白要照顧主流觀眾和出於電影視覺化的考慮，只是心中嘀咕：情節和人物設定可否白羅一點？ 電影的此一開頭預示了整部作品為了迎合庸俗趣味的刻意斧鑿，例如為營造畫面和迎合觀眾期待而添加一些不惜扭曲原著設定的細節，在此一取捨原則下，結果是同時刪去原著中嚴密而教人驚奇的推理部份，以及由此所引申出何謂及如何實踐公義的探討。電影由始至終加入許多與劇情無關的雞肋情節，僅為博君一粲：為強調白羅對於對稱平衡的執著，不惜加入踩牛糞的一節；為營造東方主義色彩而加入土耳其燒餅的情節，更不惜把白羅塑造成饞嘴嗜甜的形象（只為了預示之後白羅與雷切特分享蛋糕？）；遇見鐵路公司的布克先生的一節，加入他與妓女一起以營造浮誇公子形象……這些細節的加插都頗嫌油滑，失卻原著的那種韻味深長的幽默。此外，為增加米雪菲花的戲份以及讓她有更多演技發揮，電影中加插其角色被凶器插進背部的情節，但這與劇情推理之間的關係令人摸不著頭腦；解謎部份的手槍考驗，一方面已流於套路難令觀眾有所驚喜，同時亦導致失落了原著中對於第一個選擇的精采闡述。電影中最教人驚艷的畫面，大概只有所有嫌犯同坐一桌的「最後的晩餐」的一幕。 電影中另一最大改動，便是小說中的英國上校阿布思諾與醫生兩個角色合而為一，變成了一名黑人醫生，這無疑是電影出於政治正確的考慮所作的設定，放在相應歷史時空卻顯得突兀。小說中的阿布思諾上校與死者秘書麥奎恩深夜談話的內容天南地北，包括世界政局、印度政府，英國的財政問題、華爾街危機，對史太林只是輕輕帶過；在電影中兩人談論的內容卻僅集中在史太林，無疑也是在政治正確的前提下避重就輕，把今日的歷史時空置換到過去了。 總括而言，是次改編把原著中的故事人物抽空，僅餘下外殼來承載不同的華麗畫面，並配合各種荷里活商業和政治計算。這是商業片的大趨勢，對於重視電影裡文學內涵的觀眾來說，卻只能望而興嘆。續集選取《尼羅河謀殺案》為改編對象，明顯也是看中故事所蘊藏的東方主義色彩和恩怨情仇題材的賣座力，最終會否同樣淪於以上商業通俗化的改編窠臼，筆者未敢樂觀。 附帶一提，電影字幕將 Hercule Poirot 譯作艾喬柏賀，違反阿婆粉絲的叫法，而且其譯名居然可以在電影的不同地方有不同譯法，或令不熟悉原著的觀眾感到困惑。另外，電影其實開了一個不錯的小玩笑，白羅說自己不是 Hercules，不會打獅子，典故出自 The Labours of Hercules，在此書中阿婆以古希臘神話英雄 Hercules 的十二項豐功偉績為框架，創作了白羅的十二樁案件，其中第一樁案件便是 The Nemean Lion。'},\n",
       " {'author': '劉嘉欣',\n",
       "  'criticTitle': '《第三度殺人》：更深層次的探索',\n",
       "  'movieTitle': '第三度殺人',\n",
       "  'post': '日本導演是枝裕和再有新作上映，這次撇開了一貫描寫家庭溫情的題材，以全新的懸疑推理手法探討人性及社會種種問題。外國影評一般對導演的新嘗試抱有開放態度，但還是比較愛好他的舊作風格。我反而沒有覺得導演一反常態，他的中心思想依舊有跡可尋，只是表達上用了一個不同的手法，對社會、人性有更深層次的探索。故事講述重盛（福山雅治飾）是一位好勝、只想在法庭上追求勝利的律師，要為一位已承認控罪、極有可能會被判死刑的嫌疑犯三隅（役所廣司飾）辯護。三隅一開始對指控直認不諱，但在判罪前不斷更改口供，前言不對後語，激發重盛抽絲剝繭把真相追查到底。電影一開始沒有太多對三隅的人物刻劃，只集中於重盛尋找理據，目標要將三隅的罪行由會被判死刑的「盜竊殺人罪」轉為可輕判的「盜竊罪」及「殺人罪」。沒錯，我也感到奇怪，這兩條罪名明明性質一樣，刑罰卻大大不同？究竟有什麼分別呢？顯然在日本，這兩條罪行是有分別的，但為何因貪念而殺人的罪行，比因私人恩怨的懲罰還要重呢？就像電影中，秘書小姐說「法律真的很奇怪」，今次導演不如以往般含蓄，少有地對社會有這樣直接的批判。在重盛尋找真相的過程中，他多次到拘留所探訪三隅。最初，因為三隅反口覆舌，時而承認自己由貪念萌生殺意，之後又將矛頭指向死者妻子，指她是謀殺案主腦，所以重盛都是抱有懷疑態度去探訪。而視覺上亦可以感受到二人之間的隔膜，探訪者與疑犯被玻璃隔開，鏡頭總是從玻璃的一面拍攝，畫面上每次只會有一位主角出現，強調二人關係的距離感。到中段，死者女兒咲江（廣瀨玲飾）出現，令案情起了逆轉，三隅跟咲江的關係有如父女，令重盛想起自己一直忽略的女兒，產生了同理心，對三隅亦放下戒心。與此同時，重盛發現一些關鍵線索，證明三隅為了守護著一個秘密，背上殺人犯的罪名，而並非十惡不赦的殺人犯。電影中，重盛再度到訪拘留所的拍攝角度亦有所變化，鏡頭由主要捕捉主角的正面轉為從側面拍攝。畫面上毎次都會出現兩位主角，像在暗示二人關係變成了平等的狀態，重盛再也不是高高在上批判疑犯的過失。到最後一幕，亦是整部電影最精采的對手戲，三隅再三更改供詞。他歇斯底里為自己平反，道出自己並非殺人犯的事實，真相疑幻似真。重盛已無法挽救三隅面對死刑的命運，但他恍然大悟，好像領略到三隅背後的動機，達致共鳴。此時，之前隔開二人的玻璃不再存在，關係已經昇華到互相理解的地步，而畫面上只有二人漸漸互相重疊的影像，一進一推，直至融合在一起。三隅到底最後有沒有殺人？為何動殺機？真相還重要嗎？就如電影中一句話「這個世界沒有人說真話」，那麼有誰可以作出辯駁呢？究竟有誰可以決定誰的命運呢？電影裡的三隅有五隻金絲雀作寵物，他在被捕前將其中四隻殺死，卻放走第五隻。這一段充滿哲理，畢竟人類亦沒有當審判者的資格，總該像有第五隻鳥兒般決定自己的命運。'},\n",
       " {'author': '紀陶',\n",
       "  'criticTitle': '《活死人之旅》：文字套餐至本草綱目',\n",
       "  'movieTitle': '活死人之旅',\n",
       "  'post': ' 一：布洛斯的時代及跨時代小說《祼體午餐》（Naked Lunch）及其作者威廉布洛斯（William Burroughs）仍是西方文化的異類，他觸及的文學意境仍被視為一個大迷區，無忌諱的毒癮及性交描述幾乎仍屬文學禁忌。由於故事發展充滿學術性以及有跡可隨的系統化思維，對文字書寫及鍵盤書寫（打字機）的分別有獨到觀察，《祼體午餐》仍然是一本能導人入聖或入魔的奇書。如你從未接觸這故事，我建議你跟我一樣先從電影版入手。經布洛斯指導下，電影的敘事表層出現了一個清晰易明的故事框架：一個以除蟲維生、習慣吸毒去尋找靈感的作家，意外殺死妻子，畏罪逃至一個無定向的保護區 （跨際區 Interzone），在那裡發現他的妻子成了另一個人，然後明白除蟲的經歷是他創作生涯的一次命運安排，最後他將經歷整理成文，一部作品就出生了。與海明威代表的失落一代文化人相比，布洛斯所屬的「垮」世代最大的不同，是文字內容多是對時代的切身反應。兩場世界大戰，核彈的摧毀力，冷戰帶來的保守勢力，甚至有外星人干預政治的傳聞等等，令當時年青人很想擊破傳統思維的困局。布洛斯的家族是打字機設計商，或者令他對手寫文字及打字機的分別十分鍾情，文字風格也講求點擊感，朗讀時如同爵士樂。他是最早提出死藤水有神奇功效的西方文化人，他與其他垮世代同行的最明顯分別，是對東方學問不太熱衷，反而對中東以及南美洲文化，尤其是瑪雅文明興趣更大，亦很早已對傳聞有天眼通的神秘學大師 Edgar Cayce 的交感尋源及對阿特蘭提斯古文明的探索甚有興趣。現時由《X 檔案》及《達文西密碼》引發，席捲全球的神秘學熱潮，可總括為美式的神秘學熱潮，它是結合第二次世界大戰之後冒起的民間神秘學思潮，於九十年代經美國電影及電視片集推波助瀾，再加出版及其他娛樂消費媒體而成，深受群眾尤其是年青人擁戴。更有趣是這故事描寫的男女之別，以及跨際區的戲劇元素，後來經常在美國流行電影使用，尤其是由女人之死所觸發的尋找根源故事，如同夢魘一樣時常出現。二：電影是迷藥還是解藥？電影與文學兩大媒體一直滿載神秘學。用神秘學角度分類，文學傳達的情報是點與線的，一條二次元式的思維路向；而電影直至今天，則是以視聽媒體建構一套框架美學，利用透視法及活動映畫原理，於劇場空間將內容投映（畫面）及播放（聲效）出來。現時電影科藝所能提供的實相化情報，已有不少是文字表達不到。小說《裸體午餐》及其電影版《活死人之旅》是印刷媒體與電子視聽媒體裡應外合的一次危險療程，這個戲劇療程至今仍能有強大的心理療效。小說版有不少文字如同中國《山海經》插圖版內的奇珍異獸，表面看是四不像，但當你用認知系統庖丁解牛，會發現內有非常情報，可洞見人類的文化本源。《裸體午餐》現存版本有二十五章節（原版可能更多），閱讀時可當作令人神魂顛倒的迷魂散，亦可以用理智轉化為按部就班的料理藥方，有一章節是一擊即解的主打藥方，但讀者還是最好順序看。小說版已能透過看文字及聽文字（朗讀）的方法，理解作者文化解密行動的成果，電影的實相化呈現，等同《山海經》的插圖彌補文字描繪的不足，還有一圖即現的功效，亦有從閱讀小說時的單人效應，轉為在電影院內一群人同時接收的不同效應。布洛斯的作品時常出現蟲，以《活死人之旅》電影版中，打字機能夠在所謂現實的空間轉化成蟲最為驚異，而且有一個說話以及吃藥粉的器官──肛門。之後故事到了跨際區的時候，也發展出打字機蟲是有男性與女性之分，也有阿拉伯語打字機從右至左出字的分別，最後被破壞的打字機可再造為近似外星生物的頭形打字機，在鍵盤書寫期間可提供迷魂液汁。布洛斯的蟲如同他的遣詞，可以延伸出以上的不同涵意，你可以將上述的蟲，理解成生命化的文字，我們的言語亦可以比同為蟲鳴。我們所依靠的文字和言語一如文化積存下來的蟑螂，蟑螂可能是你天生厭惡的生物，但也可以提煉成藥品。導演大衛哥連堡1983年推出的兩部電影《猛鬼勾魂》（Videodrome）及《觸靈》（The Dead Zone）已開始對電訊媒體及新聞傳訊有獨到的描述，近作如《危險療情》（A Dangerous Method，2011）與《墮落星圖》（Maps to the Stars，2014）和它們一脈相連，尤其是《墮落星圖》更將美國夢工場內裡的神秘素材解密後呈現出來。有人會認為《活死人之旅》太苦難以入口，更有人認為是毒，不過有人知道良藥總是苦口。從神秘學角度來看，觀者可當自己神農氏上身，去嘗故事的種種戲劇元素，那你就知道我們中華的醫藥文化，以及李時珍的《本草綱目》的中藥情報就是這般留下來的。無論是良藥還是毒藥，只以獲取情報「得個知字」，和自己吃過入口，是不同的。所以有時去看一部電影也是一次危險的經驗，尤其是哥連堡的電影。'},\n",
       " {'author': '登徒',\n",
       "  'criticTitle': '從天地初開到遙遠未來：《2001太空漫遊》的開創性',\n",
       "  'movieTitle': '2001太空漫遊',\n",
       "  'post': ' 要選上世紀最偉大的科幻電影，《2001太空漫遊》（2001: A Space Odyssey，1968）相信是毋庸置疑的經典，前無古人之作。也許，它亦是寇比力克一生中最成功的作品，他個人生涯的最高峰──無論是視野和技術。影片靈感來自克拉克（Arthur C. Clarke）的短篇小說《前哨》（The Sentinel），卻同時是寇比力克和克拉克互相砥礪下的心血結晶，克拉克的太空探索，由寇比力克義無反顧地將限制推至極限，題旨和格局都大大提升，亦嘗試從天地初開說到人類的未來。寇比力克說過，本片是一部探討人與宇宙的關係，會引起複雜情緒，包括驚嘆、恐懼和肅然起敬的作品。克拉克有份為電影編劇，結構上分成三段：人類的黎明、木星任務、木星及無盡之外。寇比力克的野心難以斗量，欲探索人類的演化。這趟征空旅程，藉超前的實驗和視野，用洪荒之力幻想不能幻想之事（imagine the unimaginable），一次過探討了科技、人工智能、電腦、進化、存在主義和神秘主義等課題。它的公映早於美國阿波羅11號成功登月，其成就和野心，實在是石破天驚。最讓人嘖嘖稱奇的是另闢蹊徑拍攝太空旅程，完全擺脫了當時太空片的傳統，特技包羅萬有，如慢鏡及微距拍攝模型的特效、仿無重狀態的攝影，以及令人難忘的滾桶型太空艙。它的特技毫不妥協，不達目標誓不休，用了十八個月去完成，花了六百五十萬美元，做到寇比力克認為「完全可信」、電影是「前無古人」為止，內裡種種，已有不少書籍文章詳論，在此不用細表。表達形式亦臻極致，在第一段和末段（即頭尾二十分鐘），連語言亦去掉，全無對白，純視覺呈現，無論當時至現在，都是極大膽和前衛的。《2001太空漫遊》端視人類與科技的關係，也貼合了往後五十年至今，世界與科技相輔相承、又無法擺脫的關係。寇比力克與克拉克意念上最大的分別，正是 HAL 的設定，寇比力克把它從一個會行會走的機械人，變成無處不在的一把聲音，有強大的人工智能窺視著人類這自大又脆弱的物種。近十年，當手機已是不可仳離的隨身微型電腦，當社交媒體牽扯著個人的生活作息，當 Google Calender 已「昅實」你的電郵替你更新日程表，寇比力克的前瞻性不只沒過時，更是預言成真。現代人的文明，不能沒有電腦的份兒了。寇比力克那份要叩問人類的走向，從天地初開直到遙遠未來的史詩式勇氣，真箇深得我心。形式和內容相輔相承，直奔到那謎一樣的結尾。它抛出問題，卻不急於給你一個答案，它要撩起的，是一份狐疑和驚訝，尊重觀者智慧和欣賞能力，超越情理貫通的連繫，追求情感上的頓悟、心理層面的內省。寇比力克抽走了所有能說得明白的，給予我一個無限大的想像空間，直至泰倫斯馬力（Terrence Malick）的《生命樹》（The Tree of Life，2011），才終於有相近例子，雖然在意識上各走極端。那末，寇比力克用上理察史特勞斯（Richard Strauss）的《查拉圖斯特拉如是說》（Thus Spake Zarathustra），繞個圈將尼采的哲學論述與電影互相呼應，可屬無懈可擊了。'}]"
      ]
     },
     "execution_count": 9,
     "metadata": {},
     "output_type": "execute_result"
    }
   ],
   "source": [
    "movie_dict_list"
   ]
  },
  {
   "cell_type": "code",
   "execution_count": null,
   "metadata": {
    "collapsed": true
   },
   "outputs": [],
   "source": []
  }
 ],
 "metadata": {
  "kernelspec": {
   "display_name": "Python 3",
   "language": "python",
   "name": "python3"
  },
  "language_info": {
   "codemirror_mode": {
    "name": "ipython",
    "version": 3
   },
   "file_extension": ".py",
   "mimetype": "text/x-python",
   "name": "python",
   "nbconvert_exporter": "python",
   "pygments_lexer": "ipython3",
   "version": "3.6.1"
  }
 },
 "nbformat": 4,
 "nbformat_minor": 2
}
